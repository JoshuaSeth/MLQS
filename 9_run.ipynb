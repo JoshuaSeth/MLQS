{
 "cells": [
  {
   "cell_type": "code",
   "execution_count": 123,
   "metadata": {},
   "outputs": [],
   "source": [
    "import pandas as pd\n",
    "from sklearn.ensemble import RandomForestRegressor\n",
    "from sklearn.model_selection import train_test_split\n",
    "from sklearn.naive_bayes import GaussianNB\n",
    "from sklearn.neural_network import MLPRegressor\n",
    "from sklearn.svm import SVR\n",
    "from sklearn.tree import DecisionTreeRegressor\n",
    "from sklearn.ensemble import GradientBoostingRegressor\n",
    "from sklearn.linear_model import LinearRegression\n",
    "import matplotlib.pyplot as plt\n",
    "from matplotlib.pyplot import figure\n",
    "import numpy as np\n",
    "from tqdm.notebook import tqdm\n",
    "from sklearn.metrics import r2_score\n"
   ]
  },
  {
   "cell_type": "code",
   "execution_count": 124,
   "metadata": {},
   "outputs": [],
   "source": [
    "def warn(*args, **kwargs):\n",
    "    pass\n",
    "import warnings\n",
    "warnings.warn = warn"
   ]
  },
  {
   "cell_type": "code",
   "execution_count": 125,
   "metadata": {},
   "outputs": [
    {
     "data": {
      "text/plain": [
       "(223, 1384)"
      ]
     },
     "execution_count": 125,
     "metadata": {},
     "output_type": "execute_result"
    }
   ],
   "source": [
    "df= pd.read_csv('proc_data/8_resampled.csv')\n",
    "\n",
    "# df = df.dropna()\n",
    "\n",
    "numerics = ['int16', 'int32', 'int64','float16', 'float32', 'float64']\n",
    "\n",
    "df = df.select_dtypes(include=numerics)\n",
    "\n",
    "df = df.dropna()\n",
    "\n",
    "df.shape"
   ]
  },
  {
   "cell_type": "code",
   "execution_count": 126,
   "metadata": {},
   "outputs": [],
   "source": [
    "X = df.drop('target', axis=1)\n",
    "y = df['target'].astype(int)"
   ]
  },
  {
   "cell_type": "code",
   "execution_count": 127,
   "metadata": {},
   "outputs": [],
   "source": [
    "class AverageBaseline:\n",
    "    def __init__(self):\n",
    "        avg = np.nan\n",
    "\n",
    "    def fit(self, X, y):\n",
    "        self.avg = np.mean(y)\n",
    "\n",
    "    def predict(self, X):\n",
    "        return np.full(X.shape[0], self.avg)"
   ]
  },
  {
   "cell_type": "code",
   "execution_count": 128,
   "metadata": {},
   "outputs": [],
   "source": [
    "# Networks\n",
    "bl = AverageBaseline()\n",
    "lr = LinearRegression()\n",
    "rf = RandomForestRegressor()\n",
    "svm = SVR()\n",
    "nn = MLPRegressor(activation='logistic')\n",
    "dt = DecisionTreeRegressor()\n",
    "nb = GaussianNB()\n",
    "br = GradientBoostingRegressor()\n",
    "networks = [bl,lr,  nn, dt, nb,rf, svm, br]"
   ]
  },
  {
   "cell_type": "code",
   "execution_count": 129,
   "metadata": {},
   "outputs": [
    {
     "data": {
      "application/vnd.jupyter.widget-view+json": {
       "model_id": "0ba385f7018944749c6b30883116d515",
       "version_major": 2,
       "version_minor": 0
      },
      "text/plain": [
       "  0%|          | 0/8 [00:00<?, ?it/s]"
      ]
     },
     "metadata": {},
     "output_type": "display_data"
    },
    {
     "data": {
      "application/vnd.jupyter.widget-view+json": {
       "model_id": "cebebdda12af492d8f5f5a7c6768327c",
       "version_major": 2,
       "version_minor": 0
      },
      "text/plain": [
       "  0%|          | 0/18 [00:00<?, ?it/s]"
      ]
     },
     "metadata": {},
     "output_type": "display_data"
    },
    {
     "data": {
      "application/vnd.jupyter.widget-view+json": {
       "model_id": "b37982580bf74790b18ddb60ad433d36",
       "version_major": 2,
       "version_minor": 0
      },
      "text/plain": [
       "  0%|          | 0/18 [00:00<?, ?it/s]"
      ]
     },
     "metadata": {},
     "output_type": "display_data"
    },
    {
     "data": {
      "application/vnd.jupyter.widget-view+json": {
       "model_id": "8038eb89a7dd44bca2c7d645b7a4d294",
       "version_major": 2,
       "version_minor": 0
      },
      "text/plain": [
       "  0%|          | 0/18 [00:00<?, ?it/s]"
      ]
     },
     "metadata": {},
     "output_type": "display_data"
    },
    {
     "data": {
      "application/vnd.jupyter.widget-view+json": {
       "model_id": "fe9c2e474b4c41d58ebd6b4b2d29e3ae",
       "version_major": 2,
       "version_minor": 0
      },
      "text/plain": [
       "  0%|          | 0/18 [00:00<?, ?it/s]"
      ]
     },
     "metadata": {},
     "output_type": "display_data"
    },
    {
     "data": {
      "application/vnd.jupyter.widget-view+json": {
       "model_id": "70f78b9f7fd846ada8bdc4102404b9d1",
       "version_major": 2,
       "version_minor": 0
      },
      "text/plain": [
       "  0%|          | 0/18 [00:00<?, ?it/s]"
      ]
     },
     "metadata": {},
     "output_type": "display_data"
    },
    {
     "data": {
      "application/vnd.jupyter.widget-view+json": {
       "model_id": "06459a0f53ea40f08370c1b965832623",
       "version_major": 2,
       "version_minor": 0
      },
      "text/plain": [
       "  0%|          | 0/18 [00:00<?, ?it/s]"
      ]
     },
     "metadata": {},
     "output_type": "display_data"
    },
    {
     "data": {
      "application/vnd.jupyter.widget-view+json": {
       "model_id": "b71c5aaeea704505b0a4542536129939",
       "version_major": 2,
       "version_minor": 0
      },
      "text/plain": [
       "  0%|          | 0/18 [00:00<?, ?it/s]"
      ]
     },
     "metadata": {},
     "output_type": "display_data"
    },
    {
     "data": {
      "application/vnd.jupyter.widget-view+json": {
       "model_id": "4a8c1fa2abed4d8da823919febc30c82",
       "version_major": 2,
       "version_minor": 0
      },
      "text/plain": [
       "  0%|          | 0/18 [00:00<?, ?it/s]"
      ]
     },
     "metadata": {},
     "output_type": "display_data"
    }
   ],
   "source": [
    "mseses, scoreses, maeses = [], [], []\n",
    "for network in tqdm(networks):\n",
    "    mses, scores, maes = [], [], []\n",
    "    for run in tqdm(range(18)):\n",
    "        train_X, test_X, y_train, y_test = train_test_split(X,y, test_size=0.2)\n",
    "        # Fit and test\n",
    "        network.fit(train_X, y_train)\n",
    "        pred = network.predict(test_X)\n",
    "\n",
    "        # Metrics\n",
    "        score = r2_score(y_test, pred)\n",
    "        mse =np.mean(np.square(y_test-pred))\n",
    "        mae = np.mean(np.abs(y_test-pred))\n",
    "        mses.append(mse); scores.append(score); maes.append(mae)\n",
    "       \n",
    "    mseses.append(mses)\n",
    "    scoreses.append(scores)\n",
    "    maeses.append(maes)"
   ]
  },
  {
   "cell_type": "code",
   "execution_count": 157,
   "metadata": {},
   "outputs": [
    {
     "data": {
      "text/plain": [
       "[<matplotlib.axis.XTick at 0x7f83e88f5fd0>,\n",
       " <matplotlib.axis.XTick at 0x7f83e88f5fa0>,\n",
       " <matplotlib.axis.XTick at 0x7f83e8e21a00>,\n",
       " <matplotlib.axis.XTick at 0x7f83e9031730>,\n",
       " <matplotlib.axis.XTick at 0x7f83e9031e80>,\n",
       " <matplotlib.axis.XTick at 0x7f83e9037610>,\n",
       " <matplotlib.axis.XTick at 0x7f83e9031a60>,\n",
       " <matplotlib.axis.XTick at 0x7f83e9037c40>,\n",
       " Text(1, 0, 'avg bl'),\n",
       " Text(2, 0, 'lr'),\n",
       " Text(3, 0, 'nn'),\n",
       " Text(4, 0, 'dt'),\n",
       " Text(5, 0, 'nb'),\n",
       " Text(6, 0, 'rf'),\n",
       " Text(7, 0, 'svm'),\n",
       " Text(8, 0, 'br'),\n",
       " <matplotlib.axis.XTick at 0x7f83e8e0b880>,\n",
       " <matplotlib.axis.XTick at 0x7f83e8e0b850>,\n",
       " <matplotlib.axis.XTick at 0x7f83e7000cd0>,\n",
       " <matplotlib.axis.XTick at 0x7f83e903fb20>,\n",
       " <matplotlib.axis.XTick at 0x7f83e90422b0>,\n",
       " <matplotlib.axis.XTick at 0x7f83e9042a00>,\n",
       " <matplotlib.axis.XTick at 0x7f83e9042be0>,\n",
       " <matplotlib.axis.XTick at 0x7f83e903fac0>,\n",
       " Text(1, 0, 'avg bl'),\n",
       " Text(2, 0, 'lr'),\n",
       " Text(3, 0, 'nn'),\n",
       " Text(4, 0, 'dt'),\n",
       " Text(5, 0, 'nb'),\n",
       " Text(6, 0, 'rf'),\n",
       " Text(7, 0, 'svm'),\n",
       " Text(8, 0, 'br'),\n",
       " <matplotlib.axis.XTick at 0x7f83e8e3cfa0>,\n",
       " <matplotlib.axis.XTick at 0x7f83e8e3cf70>,\n",
       " <matplotlib.axis.XTick at 0x7f83e8dfff10>,\n",
       " <matplotlib.axis.XTick at 0x7f83e9048730>,\n",
       " <matplotlib.axis.XTick at 0x7f83e9048e80>,\n",
       " <matplotlib.axis.XTick at 0x7f83e9051610>,\n",
       " <matplotlib.axis.XTick at 0x7f83e9051d60>,\n",
       " <matplotlib.axis.XTick at 0x7f83e9051640>,\n",
       " Text(1, 0, 'avg bl'),\n",
       " Text(2, 0, 'lr'),\n",
       " Text(3, 0, 'nn'),\n",
       " Text(4, 0, 'dt'),\n",
       " Text(5, 0, 'nb'),\n",
       " Text(6, 0, 'rf'),\n",
       " Text(7, 0, 'svm'),\n",
       " Text(8, 0, 'br')]"
      ]
     },
     "execution_count": 157,
     "metadata": {},
     "output_type": "execute_result"
    },
    {
     "data": {
      "text/plain": [
       "<Figure size 1152x576 with 0 Axes>"
      ]
     },
     "metadata": {},
     "output_type": "display_data"
    },
    {
     "data": {
      "image/png": "[encoded data removed]",
      "text/plain": [
       "<Figure size 1728x576 with 3 Axes>"
      ]
     },
     "metadata": {
      "needs_background": "light"
     },
     "output_type": "display_data"
    }
   ],
   "source": [
    "figure(figsize=(16,8))\n",
    "fig, axs = plt.subplots(ncols=3)\n",
    "\n",
    "\n",
    "fig.set_figheight(8)\n",
    "fig.set_figwidth(24)\n",
    "\n",
    "axs[0].boxplot(mseses)\n",
    "axs[0].set_ylim([0, 28])\n",
    "axs[0].set_title('MSEs')\n",
    "\n",
    "axs[1].boxplot(maeses)\n",
    "axs[1].set_ylim([0, 5])\n",
    "axs[1].set_title('MAEs')\n",
    "\n",
    "\n",
    "axs[2].boxplot(scoreses)\n",
    "axs[2].set_ylim([-1, 1])\n",
    "axs[2].set_title('R2s')\n",
    "\n",
    "\n",
    "\n",
    "plt.setp(axs, xticks=[1,2,3,4,5,6,7,8], xticklabels=['avg bl','lr', 'nn', 'dt', 'nb','rf', 'svm', 'br'])\n",
    "\n"
   ]
  },
  {
   "cell_type": "code",
   "execution_count": 192,
   "metadata": {},
   "outputs": [
    {
     "name": "stdout",
     "output_type": "stream",
     "text": [
      "\\begin{tabular}{llrrrrrr}\n",
      "\\hline\n",
      "{} &  Source &            SS &   DF &          MS &       F &  p-unc &    np2 \\\\\n",
      "\\hline\n",
      "mseses   &   group &  3.010826e+06 &    7 &  430117.979 &   3.656 &  0.001 &  0.158 \\\\\n",
      "         &  Within &  1.600116e+07 &  136 &  117655.599 &     NaN &    NaN &    NaN \\\\\n",
      "maeses   &   group &  2.957250e+02 &    7 &      42.246 &  33.035 &  0.000 &  0.630 \\\\\n",
      "         &  Within &  1.739240e+02 &  136 &       1.279 &     NaN &    NaN &    NaN \\\\\n",
      "scoreses &   group &  1.469330e+04 &    7 &    2099.043 &   4.071 &  0.000 &  0.173 \\\\\n",
      "         &  Within &  7.012162e+04 &  136 &     515.600 &     NaN &    NaN &    NaN \\\\\n",
      "\\hline\n",
      "\\end{tabular}\n",
      "\n"
     ]
    }
   ],
   "source": [
    "import pingouin as pg\n",
    "aovs = pd.DataFrame()\n",
    "\n",
    "for comparison, name in zip([mseses, maeses, scoreses], ['mseses', 'maeses', 'scoreses']):\n",
    "    temp = pd.DataFrame(columns=['score', 'group'])\n",
    "    for scorelist, group in zip(comparison, ['avg bl','lr', 'nn', 'dt', 'nb','rf', 'svm', 'br']):\n",
    "        for score in scorelist:\n",
    "            temp=temp.append({'score': score, 'group': group}, ignore_index=True)\n",
    "\n",
    "    aov = pg.anova(data=temp, dv='score', between='group', detailed=True)\n",
    "    aov.index = [name, \"\"]\n",
    "    aovs=aovs.append(aov.round(3))\n",
    "\n",
    "print(str(aovs.round(3).to_latex()).replace('\\\\toprule', '\\\\hline').replace('\\\\midrule', '\\\\hline').replace('\\\\bottomrule', '\\\\hline').replace('NaN', ''))\n"
   ]
  },
  {
   "cell_type": "code",
   "execution_count": 186,
   "metadata": {},
   "outputs": [
    {
     "name": "stdout",
     "output_type": "stream",
     "text": [
      "mseses\n",
      "maeses\n",
      "scoreses\n",
      "\\begin{tabular}{llllllll}\n",
      "\\toprule\n",
      "{} &     avg bl &         lr &         nn &         dt &         nb &        svm &         br \\\\\n",
      "\\midrule\n",
      "MSE &  $< 0.001$ &  $> 0.999$ &  $< 0.001$ &      0.015 &  $< 0.001$ &  $< 0.001$ &  $> 0.999$ \\\\\n",
      "MAE &  $< 0.001$ &  $< 0.001$ &  $< 0.001$ &  $> 0.999$ &  $< 0.001$ &      0.005 &  $> 0.999$ \\\\\n",
      "R2  &  $< 0.001$ &      0.995 &  $< 0.001$ &       0.02 &  $< 0.001$ &  $< 0.001$ &  $> 0.999$ \\\\\n",
      "\\bottomrule\n",
      "\\end{tabular}\n",
      "\n"
     ]
    }
   ],
   "source": [
    "from scipy import stats\n",
    "import mne \n",
    "\n",
    "allps = []\n",
    "for comparison, name in zip([mseses, maeses, scoreses], ['mseses', 'maeses', 'scoreses']):\n",
    "    ps = []\n",
    "    print(name)\n",
    "    for scorelist, group in zip(comparison, ['avg bl','lr', 'nn', 'dt', 'nb','rf', 'svm', 'br']):\n",
    "        t = stats.ttest_ind(comparison[5], scorelist)\n",
    "        if group != 'rf': ps.append(t.pvalue)\n",
    "    allps.append(ps)\n",
    "\n",
    "flat = np.array(allps).flatten()\n",
    "reject, pscorrected = mne.stats.bonferroni_correction(flat, alpha=0.05)\n",
    "allps = np.array(pscorrected).reshape((3, 7))\n",
    "table = pd.DataFrame(allps, columns=['avg bl','lr', 'nn', 'dt', 'nb', 'svm', 'br'])\n",
    "table.index = ['MSE', 'MAE', 'R2']\n",
    "table = table.round(3)\n",
    "for col in table.columns:\n",
    "    table[col] = table[col].astype(str).replace('0.0', '$< 0.001$').replace('1.0', '$> 0.999$')\n",
    "print(table.to_latex( escape=False))\n"
   ]
  }
 ],
 "metadata": {
  "kernelspec": {
   "display_name": "Python 3.9.0 64-bit",
   "language": "python",
   "name": "python3"
  },
  "language_info": {
   "codemirror_mode": {
    "name": "ipython",
    "version": 3
   },
   "file_extension": ".py",
   "mimetype": "text/x-python",
   "name": "python",
   "nbconvert_exporter": "python",
   "pygments_lexer": "ipython3",
   "version": "3.9.0"
  },
  "orig_nbformat": 4,
  "vscode": {
   "interpreter": {
    "hash": "397704579725e15f5c7cb49fe5f0341eb7531c82d19f2c29d197e8b64ab5776b"
   }
  }
 },
 "nbformat": 4,
 "nbformat_minor": 2
}
